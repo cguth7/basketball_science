{
 "cells": [
  {
   "cell_type": "code",
   "execution_count": 1,
   "id": "c08c4670",
   "metadata": {},
   "outputs": [],
   "source": [
    "import pandas as pd\n",
    "import requests"
   ]
  },
  {
   "cell_type": "markdown",
   "id": "4a765fa2",
   "metadata": {},
   "source": [
    "### Scraping CraftedNBA"
   ]
  },
  {
   "cell_type": "code",
   "execution_count": 2,
   "id": "27067cfe",
   "metadata": {},
   "outputs": [],
   "source": [
    "url = \"https://craftednba.com/player-traits/length\""
   ]
  },
  {
   "cell_type": "code",
   "execution_count": 3,
   "id": "5b518728",
   "metadata": {},
   "outputs": [],
   "source": [
    "data = requests.get(url)"
   ]
  },
  {
   "cell_type": "code",
   "execution_count": 4,
   "id": "367a007a",
   "metadata": {},
   "outputs": [],
   "source": [
    "with open(\"heights.html\", \"w+\") as f:\n",
    "    f.write(data.text)"
   ]
  },
  {
   "cell_type": "code",
   "execution_count": 5,
   "id": "c20b855a",
   "metadata": {},
   "outputs": [],
   "source": [
    "from bs4 import BeautifulSoup"
   ]
  },
  {
   "cell_type": "code",
   "execution_count": 6,
   "id": "cf1df6b3",
   "metadata": {},
   "outputs": [],
   "source": [
    "with open(\"heights.html\") as f:\n",
    "    page = f.read()"
   ]
  },
  {
   "cell_type": "code",
   "execution_count": 7,
   "id": "9b22f0b1",
   "metadata": {},
   "outputs": [],
   "source": [
    "soup = BeautifulSoup(page,\"html.parser\")\n"
   ]
  },
  {
   "cell_type": "code",
   "execution_count": 8,
   "id": "97ace2d1",
   "metadata": {},
   "outputs": [],
   "source": [
    "table = soup.find('div', {'class': 'table-wrapping is-responsive'})"
   ]
  },
  {
   "cell_type": "code",
   "execution_count": 9,
   "id": "73d13ac5",
   "metadata": {},
   "outputs": [],
   "source": [
    "df = pd.read_html(str(table))[0]"
   ]
  },
  {
   "cell_type": "code",
   "execution_count": 10,
   "id": "0f1632f5",
   "metadata": {},
   "outputs": [
    {
     "data": {
      "text/html": [
       "<div>\n",
       "<style scoped>\n",
       "    .dataframe tbody tr th:only-of-type {\n",
       "        vertical-align: middle;\n",
       "    }\n",
       "\n",
       "    .dataframe tbody tr th {\n",
       "        vertical-align: top;\n",
       "    }\n",
       "\n",
       "    .dataframe thead th {\n",
       "        text-align: right;\n",
       "    }\n",
       "</style>\n",
       "<table border=\"1\" class=\"dataframe\">\n",
       "  <thead>\n",
       "    <tr style=\"text-align: right;\">\n",
       "      <th></th>\n",
       "      <th>#</th>\n",
       "      <th>Name</th>\n",
       "      <th>length</th>\n",
       "      <th>height</th>\n",
       "      <th>wingspan</th>\n",
       "    </tr>\n",
       "  </thead>\n",
       "  <tbody>\n",
       "    <tr>\n",
       "      <th>0</th>\n",
       "      <td>1</td>\n",
       "      <td>Mo Bamba  ORL | C</td>\n",
       "      <td>10.75</td>\n",
       "      <td>6'11.25\"</td>\n",
       "      <td>7'10\"</td>\n",
       "    </tr>\n",
       "    <tr>\n",
       "      <th>1</th>\n",
       "      <td>2</td>\n",
       "      <td>Talen Horton-Tucker  LAL | SF</td>\n",
       "      <td>10.75</td>\n",
       "      <td>6'2.5\"</td>\n",
       "      <td>7'1.25\"</td>\n",
       "    </tr>\n",
       "    <tr>\n",
       "      <th>2</th>\n",
       "      <td>3</td>\n",
       "      <td>Eric Paschall  UTA | PF</td>\n",
       "      <td>9.75</td>\n",
       "      <td>6'6\"</td>\n",
       "      <td>7'3.75\"</td>\n",
       "    </tr>\n",
       "    <tr>\n",
       "      <th>3</th>\n",
       "      <td>4</td>\n",
       "      <td>Jalen Williams  OKC | SG</td>\n",
       "      <td>9.75</td>\n",
       "      <td>6'4.5\"</td>\n",
       "      <td>7'2.25\"</td>\n",
       "    </tr>\n",
       "    <tr>\n",
       "      <th>4</th>\n",
       "      <td>5</td>\n",
       "      <td>Isaiah Stewart  DET | C</td>\n",
       "      <td>9.50</td>\n",
       "      <td>6'7.25\"</td>\n",
       "      <td>7'4.75\"</td>\n",
       "    </tr>\n",
       "    <tr>\n",
       "      <th>...</th>\n",
       "      <td>...</td>\n",
       "      <td>...</td>\n",
       "      <td>...</td>\n",
       "      <td>...</td>\n",
       "      <td>...</td>\n",
       "    </tr>\n",
       "    <tr>\n",
       "      <th>449</th>\n",
       "      <td>450</td>\n",
       "      <td>Killian Tillie  MEM | PF</td>\n",
       "      <td>-0.75</td>\n",
       "      <td>6'8.75\"</td>\n",
       "      <td>6'8\"</td>\n",
       "    </tr>\n",
       "    <tr>\n",
       "      <th>450</th>\n",
       "      <td>451</td>\n",
       "      <td>Kelly Olynyk  DET | C</td>\n",
       "      <td>-1.00</td>\n",
       "      <td>6'10.75\"</td>\n",
       "      <td>6'9.75\"</td>\n",
       "    </tr>\n",
       "    <tr>\n",
       "      <th>451</th>\n",
       "      <td>452</td>\n",
       "      <td>Kyle Kuzma  WAS | PF</td>\n",
       "      <td>-1.00</td>\n",
       "      <td>6'8\"</td>\n",
       "      <td>6'7\"</td>\n",
       "    </tr>\n",
       "    <tr>\n",
       "      <th>452</th>\n",
       "      <td>453</td>\n",
       "      <td>Tyler Herro  MIA | SG</td>\n",
       "      <td>-1.25</td>\n",
       "      <td>6'4.5\"</td>\n",
       "      <td>6'3.25\"</td>\n",
       "    </tr>\n",
       "    <tr>\n",
       "      <th>453</th>\n",
       "      <td>454</td>\n",
       "      <td>Svi Mykhailiuk  TOR | SG</td>\n",
       "      <td>-1.50</td>\n",
       "      <td>6'6.5\"</td>\n",
       "      <td>6'5\"</td>\n",
       "    </tr>\n",
       "  </tbody>\n",
       "</table>\n",
       "<p>454 rows × 5 columns</p>\n",
       "</div>"
      ],
      "text/plain": [
       "       #                           Name  length    height wingspan\n",
       "0      1              Mo Bamba  ORL | C   10.75  6'11.25\"    7'10\"\n",
       "1      2  Talen Horton-Tucker  LAL | SF   10.75    6'2.5\"  7'1.25\"\n",
       "2      3        Eric Paschall  UTA | PF    9.75      6'6\"  7'3.75\"\n",
       "3      4       Jalen Williams  OKC | SG    9.75    6'4.5\"  7'2.25\"\n",
       "4      5        Isaiah Stewart  DET | C    9.50   6'7.25\"  7'4.75\"\n",
       "..   ...                            ...     ...       ...      ...\n",
       "449  450       Killian Tillie  MEM | PF   -0.75   6'8.75\"     6'8\"\n",
       "450  451          Kelly Olynyk  DET | C   -1.00  6'10.75\"  6'9.75\"\n",
       "451  452           Kyle Kuzma  WAS | PF   -1.00      6'8\"     6'7\"\n",
       "452  453          Tyler Herro  MIA | SG   -1.25    6'4.5\"  6'3.25\"\n",
       "453  454       Svi Mykhailiuk  TOR | SG   -1.50    6'6.5\"     6'5\"\n",
       "\n",
       "[454 rows x 5 columns]"
      ]
     },
     "execution_count": 10,
     "metadata": {},
     "output_type": "execute_result"
    }
   ],
   "source": [
    "df"
   ]
  },
  {
   "cell_type": "markdown",
   "id": "9a242f3f",
   "metadata": {},
   "source": [
    "### data is easy to pull but poorly formated. No years on the players, it's just current players. Need to get a new source"
   ]
  },
  {
   "cell_type": "code",
   "execution_count": 11,
   "id": "575b171d",
   "metadata": {},
   "outputs": [],
   "source": [
    "from matplotlib import pyplot as plt"
   ]
  },
  {
   "cell_type": "code",
   "execution_count": 12,
   "id": "567ef6e7",
   "metadata": {},
   "outputs": [
    {
     "data": {
      "text/plain": [
       "[<matplotlib.lines.Line2D at 0x7fb338680bb0>]"
      ]
     },
     "execution_count": 12,
     "metadata": {},
     "output_type": "execute_result"
    },
    {
     "data": {
      "image/png": "[encoded data removed]",
      "text/plain": [
       "<Figure size 432x288 with 1 Axes>"
      ]
     },
     "metadata": {
      "needs_background": "light"
     },
     "output_type": "display_data"
    }
   ],
   "source": [
    "plt.plot(df['length'], 'ro')"
   ]
  },
  {
   "cell_type": "markdown",
   "id": "5eadef23",
   "metadata": {},
   "source": [
    "### Scrapping NBA.com w/ web driver"
   ]
  },
  {
   "cell_type": "code",
   "execution_count": 30,
   "id": "a02fc7de",
   "metadata": {},
   "outputs": [
    {
     "name": "stderr",
     "output_type": "stream",
     "text": [
      "/var/folders/54/rt49ghfs4x10mrlvx7bchy980000gn/T/ipykernel_21914/3778157666.py:2: DeprecationWarning: executable_path has been deprecated, please pass in a Service object\n",
      "  driver = webdriver.Chrome(executable_path=\"/Users/charlesguthmann/Downloads/code/projects/gobertproject/chromedriver\")\n"
     ]
    }
   ],
   "source": [
    "from selenium import webdriver\n",
    "driver = webdriver.Chrome(executable_path=\"/Users/charlesguthmann/Downloads/code/projects/gobertproject/chromedriver\")"
   ]
  },
  {
   "cell_type": "code",
   "execution_count": 32,
   "id": "13b7e28f",
   "metadata": {},
   "outputs": [],
   "source": [
    "url2 = 'https://www.nba.com/stats/draft/combine-anthro/'\n",
    "import time"
   ]
  },
  {
   "cell_type": "code",
   "execution_count": 33,
   "id": "a8704151",
   "metadata": {},
   "outputs": [],
   "source": [
    "driver.get(url2)\n",
    "driver.execute_script(\"window.scrollTo(1,10000)\")\n",
    "time.sleep(2)\n",
    "html = driver.page_source"
   ]
  },
  {
   "cell_type": "code",
   "execution_count": 34,
   "id": "34e175c8",
   "metadata": {},
   "outputs": [],
   "source": [
    " with open(\"players.html\",'w+') as f:\n",
    "        f.write(html)"
   ]
  },
  {
   "cell_type": "code",
   "execution_count": 51,
   "id": "c20b5a14",
   "metadata": {},
   "outputs": [],
   "source": [
    "with open(\"players.html\",) as f:\n",
    "        page = f.read()"
   ]
  },
  {
   "cell_type": "code",
   "execution_count": 52,
   "id": "cc049e86",
   "metadata": {},
   "outputs": [],
   "source": [
    "soup = BeautifulSoup(page,\"html.parser\")"
   ]
  },
  {
   "cell_type": "code",
   "execution_count": 56,
   "id": "c141271f",
   "metadata": {},
   "outputs": [],
   "source": [
    "nbaweb = soup.find('div', {'class': 'nba-stat-table'})"
   ]
  },
  {
   "cell_type": "code",
   "execution_count": 122,
   "id": "f44f9269",
   "metadata": {},
   "outputs": [],
   "source": [
    "nbatable = pd.read_html(str(nbaweb))[0]"
   ]
  },
  {
   "cell_type": "code",
   "execution_count": 123,
   "id": "cc40e6b3",
   "metadata": {},
   "outputs": [],
   "source": [
    "nbatable = nbatable.dropna()"
   ]
  },
  {
   "cell_type": "code",
   "execution_count": 124,
   "id": "924c1a75",
   "metadata": {},
   "outputs": [
    {
     "data": {
      "text/html": [
       "<div>\n",
       "<style scoped>\n",
       "    .dataframe tbody tr th:only-of-type {\n",
       "        vertical-align: middle;\n",
       "    }\n",
       "\n",
       "    .dataframe tbody tr th {\n",
       "        vertical-align: top;\n",
       "    }\n",
       "\n",
       "    .dataframe thead th {\n",
       "        text-align: right;\n",
       "    }\n",
       "</style>\n",
       "<table border=\"1\" class=\"dataframe\">\n",
       "  <thead>\n",
       "    <tr style=\"text-align: right;\">\n",
       "      <th></th>\n",
       "      <th>PLAYER</th>\n",
       "      <th>POS</th>\n",
       "      <th>BODY FAT %</th>\n",
       "      <th>HAND LENGTH (inches)</th>\n",
       "      <th>HAND WIDTH (inches)</th>\n",
       "      <th>HEIGHT W/O SHOES</th>\n",
       "      <th>HEIGHT W/ SHOES</th>\n",
       "      <th>STANDING REACH</th>\n",
       "      <th>WEIGHT (LBS)</th>\n",
       "      <th>WINGSPAN</th>\n",
       "    </tr>\n",
       "  </thead>\n",
       "  <tbody>\n",
       "    <tr>\n",
       "      <th>0</th>\n",
       "      <td>Ochai Agbaji</td>\n",
       "      <td>SG</td>\n",
       "      <td>5.40%</td>\n",
       "      <td>8.75</td>\n",
       "      <td>9.50</td>\n",
       "      <td>6' 4.50''</td>\n",
       "      <td>6' 5.75''</td>\n",
       "      <td>8' 8.00''</td>\n",
       "      <td>216.8</td>\n",
       "      <td>6' 10.25''</td>\n",
       "    </tr>\n",
       "    <tr>\n",
       "      <th>1</th>\n",
       "      <td>Patrick Baldwin Jr.</td>\n",
       "      <td>SF</td>\n",
       "      <td>8.90%</td>\n",
       "      <td>8.75</td>\n",
       "      <td>9.50</td>\n",
       "      <td>6' 9.25''</td>\n",
       "      <td>6' 10.25''</td>\n",
       "      <td>9' 2.50''</td>\n",
       "      <td>230.8</td>\n",
       "      <td>7' 1.75''</td>\n",
       "    </tr>\n",
       "    <tr>\n",
       "      <th>3</th>\n",
       "      <td>Dominick Barlow</td>\n",
       "      <td>PF</td>\n",
       "      <td>5.90%</td>\n",
       "      <td>9.00</td>\n",
       "      <td>10.50</td>\n",
       "      <td>6' 8.75''</td>\n",
       "      <td>6' 9.75''</td>\n",
       "      <td>9' 0.50''</td>\n",
       "      <td>221.0</td>\n",
       "      <td>7' 3.00''</td>\n",
       "    </tr>\n",
       "    <tr>\n",
       "      <th>4</th>\n",
       "      <td>MarJon Beauchamp</td>\n",
       "      <td>SG</td>\n",
       "      <td>5.30%</td>\n",
       "      <td>9.00</td>\n",
       "      <td>9.00</td>\n",
       "      <td>6' 5.25''</td>\n",
       "      <td>6' 6.50''</td>\n",
       "      <td>8' 10.00''</td>\n",
       "      <td>196.6</td>\n",
       "      <td>7' 0.75''</td>\n",
       "    </tr>\n",
       "    <tr>\n",
       "      <th>5</th>\n",
       "      <td>Hugo Besson</td>\n",
       "      <td>SG</td>\n",
       "      <td>8.80%</td>\n",
       "      <td>7.50</td>\n",
       "      <td>8.50</td>\n",
       "      <td>6' 4.50''</td>\n",
       "      <td>6' 5.75''</td>\n",
       "      <td>8' 6.00''</td>\n",
       "      <td>180.4</td>\n",
       "      <td>6' 5.50''</td>\n",
       "    </tr>\n",
       "    <tr>\n",
       "      <th>...</th>\n",
       "      <td>...</td>\n",
       "      <td>...</td>\n",
       "      <td>...</td>\n",
       "      <td>...</td>\n",
       "      <td>...</td>\n",
       "      <td>...</td>\n",
       "      <td>...</td>\n",
       "      <td>...</td>\n",
       "      <td>...</td>\n",
       "      <td>...</td>\n",
       "    </tr>\n",
       "    <tr>\n",
       "      <th>75</th>\n",
       "      <td>Alondes Williams</td>\n",
       "      <td>SG</td>\n",
       "      <td>7.20%</td>\n",
       "      <td>8.50</td>\n",
       "      <td>9.25</td>\n",
       "      <td>6' 3.75''</td>\n",
       "      <td>6' 5.00''</td>\n",
       "      <td>8' 6.00''</td>\n",
       "      <td>209.0</td>\n",
       "      <td>6' 7.00''</td>\n",
       "    </tr>\n",
       "    <tr>\n",
       "      <th>76</th>\n",
       "      <td>Jalen Williams</td>\n",
       "      <td>SG</td>\n",
       "      <td>8.90%</td>\n",
       "      <td>8.50</td>\n",
       "      <td>9.50</td>\n",
       "      <td>6' 4.50''</td>\n",
       "      <td>6' 5.75''</td>\n",
       "      <td>8' 9.50''</td>\n",
       "      <td>209.2</td>\n",
       "      <td>7' 2.25''</td>\n",
       "    </tr>\n",
       "    <tr>\n",
       "      <th>77</th>\n",
       "      <td>Jaylin Williams</td>\n",
       "      <td>C</td>\n",
       "      <td>8.00%</td>\n",
       "      <td>8.50</td>\n",
       "      <td>10.50</td>\n",
       "      <td>6' 8.75''</td>\n",
       "      <td>6' 10.00''</td>\n",
       "      <td>9' 0.50''</td>\n",
       "      <td>236.6</td>\n",
       "      <td>7' 1.00''</td>\n",
       "    </tr>\n",
       "    <tr>\n",
       "      <th>78</th>\n",
       "      <td>Trevion Williams</td>\n",
       "      <td>C</td>\n",
       "      <td>10.80%</td>\n",
       "      <td>9.00</td>\n",
       "      <td>10.25</td>\n",
       "      <td>6' 7.25''</td>\n",
       "      <td>6' 8.75''</td>\n",
       "      <td>9' 0.50''</td>\n",
       "      <td>264.6</td>\n",
       "      <td>7' 2.75''</td>\n",
       "    </tr>\n",
       "    <tr>\n",
       "      <th>80</th>\n",
       "      <td>Mark Williams</td>\n",
       "      <td>C</td>\n",
       "      <td>5.40%</td>\n",
       "      <td>9.00</td>\n",
       "      <td>9.75</td>\n",
       "      <td>7' 0.00''</td>\n",
       "      <td>7' 2.00''</td>\n",
       "      <td>9' 9.00''</td>\n",
       "      <td>242.4</td>\n",
       "      <td>7' 6.50''</td>\n",
       "    </tr>\n",
       "  </tbody>\n",
       "</table>\n",
       "<p>61 rows × 10 columns</p>\n",
       "</div>"
      ],
      "text/plain": [
       "                 PLAYER POS BODY FAT % HAND LENGTH (inches)  \\\n",
       "0          Ochai Agbaji  SG      5.40%                 8.75   \n",
       "1   Patrick Baldwin Jr.  SF      8.90%                 8.75   \n",
       "3       Dominick Barlow  PF      5.90%                 9.00   \n",
       "4      MarJon Beauchamp  SG      5.30%                 9.00   \n",
       "5           Hugo Besson  SG      8.80%                 7.50   \n",
       "..                  ...  ..        ...                  ...   \n",
       "75     Alondes Williams  SG      7.20%                 8.50   \n",
       "76       Jalen Williams  SG      8.90%                 8.50   \n",
       "77      Jaylin Williams   C      8.00%                 8.50   \n",
       "78     Trevion Williams   C     10.80%                 9.00   \n",
       "80        Mark Williams   C      5.40%                 9.00   \n",
       "\n",
       "   HAND WIDTH (inches) HEIGHT W/O SHOES HEIGHT W/ SHOES STANDING REACH  \\\n",
       "0                 9.50        6' 4.50''       6' 5.75''      8' 8.00''   \n",
       "1                 9.50        6' 9.25''      6' 10.25''      9' 2.50''   \n",
       "3                10.50        6' 8.75''       6' 9.75''      9' 0.50''   \n",
       "4                 9.00        6' 5.25''       6' 6.50''     8' 10.00''   \n",
       "5                 8.50        6' 4.50''       6' 5.75''      8' 6.00''   \n",
       "..                 ...              ...             ...            ...   \n",
       "75                9.25        6' 3.75''       6' 5.00''      8' 6.00''   \n",
       "76                9.50        6' 4.50''       6' 5.75''      8' 9.50''   \n",
       "77               10.50        6' 8.75''      6' 10.00''      9' 0.50''   \n",
       "78               10.25        6' 7.25''       6' 8.75''      9' 0.50''   \n",
       "80                9.75        7' 0.00''       7' 2.00''      9' 9.00''   \n",
       "\n",
       "   WEIGHT (LBS)    WINGSPAN  \n",
       "0         216.8  6' 10.25''  \n",
       "1         230.8   7' 1.75''  \n",
       "3         221.0   7' 3.00''  \n",
       "4         196.6   7' 0.75''  \n",
       "5         180.4   6' 5.50''  \n",
       "..          ...         ...  \n",
       "75        209.0   6' 7.00''  \n",
       "76        209.2   7' 2.25''  \n",
       "77        236.6   7' 1.00''  \n",
       "78        264.6   7' 2.75''  \n",
       "80        242.4   7' 6.50''  \n",
       "\n",
       "[61 rows x 10 columns]"
      ]
     },
     "execution_count": 124,
     "metadata": {},
     "output_type": "execute_result"
    }
   ],
   "source": [
    "nbatable"
   ]
  },
  {
   "cell_type": "code",
   "execution_count": 125,
   "id": "2fc15e8a",
   "metadata": {},
   "outputs": [
    {
     "data": {
      "text/plain": [
       "'HAND\\xa0WIDTH\\xa0(inches)'"
      ]
     },
     "execution_count": 125,
     "metadata": {},
     "output_type": "execute_result"
    }
   ],
   "source": [
    "nbatable.columns[4]"
   ]
  },
  {
   "cell_type": "code",
   "execution_count": 126,
   "id": "af4ddeda",
   "metadata": {},
   "outputs": [],
   "source": [
    "nbatable = nbatable.rename(columns={ nbatable.columns[2]: \"bodyfat\" })\n",
    "nbatable = nbatable.rename(columns={ nbatable.columns[3]: \"handlength\" })\n",
    "nbatable = nbatable.rename(columns={ nbatable.columns[4]: \"handwidth\" })\n",
    "nbatable = nbatable.rename(columns={ nbatable.columns[5]: \"noshoes\" })\n",
    "nbatable = nbatable.rename(columns={ nbatable.columns[6]: \"shoes\" })\n",
    "nbatable = nbatable.rename(columns={ nbatable.columns[7]: \"standingreach\" })\n",
    "nbatable = nbatable.rename(columns={ nbatable.columns[8]: \"weight\" })"
   ]
  },
  {
   "cell_type": "code",
   "execution_count": 127,
   "id": "6d047001",
   "metadata": {},
   "outputs": [
    {
     "data": {
      "text/plain": [
       "PLAYER           object\n",
       "POS              object\n",
       "bodyfat          object\n",
       "handlength       object\n",
       "handwidth        object\n",
       "noshoes          object\n",
       "shoes            object\n",
       "standingreach    object\n",
       "weight           object\n",
       "WINGSPAN         object\n",
       "dtype: object"
      ]
     },
     "execution_count": 127,
     "metadata": {},
     "output_type": "execute_result"
    }
   ],
   "source": [
    "nbatable.dtypes"
   ]
  },
  {
   "cell_type": "code",
   "execution_count": 128,
   "id": "a9fd05b7",
   "metadata": {},
   "outputs": [],
   "source": [
    "nbatable = nbatable.apply(pd.to_numeric, errors ='ignore')"
   ]
  },
  {
   "cell_type": "code",
   "execution_count": 154,
   "id": "6bcf5e03",
   "metadata": {},
   "outputs": [],
   "source": [
    "def parse_ht(ht):\n",
    "    ht_ = ht.split(\"' \")\n",
    "    ft_ = float(ht_[0])\n",
    "    in_ = float(ht_[1].replace(\"''\",\"\"))\n",
    "    return (12*ft_) + in_\n",
    "    \n",
    "\n",
    "## nbatable['noshoes'] = nbatable[\"noshoes\"].apply(lambda x:parse_ht(x))"
   ]
  },
  {
   "cell_type": "code",
   "execution_count": 150,
   "id": "8684cea7",
   "metadata": {},
   "outputs": [],
   "source": [
    "nbatable['shoes'] = nbatable[\"shoes\"].apply(lambda x:parse_ht(x))"
   ]
  },
  {
   "cell_type": "code",
   "execution_count": 152,
   "id": "dc11948e",
   "metadata": {},
   "outputs": [],
   "source": [
    "nbatable['standingreach'] = nbatable[\"standingreach\"].apply(lambda x:parse_ht(x))"
   ]
  },
  {
   "cell_type": "code",
   "execution_count": 162,
   "id": "346eb0a6",
   "metadata": {},
   "outputs": [],
   "source": [
    "nbatable['WINGSPAN'] = nbatable[\"WINGSPAN\"].apply(lambda x:parse_ht(x))"
   ]
  },
  {
   "cell_type": "code",
   "execution_count": 160,
   "id": "99a4c859",
   "metadata": {},
   "outputs": [],
   "source": [
    "nbatable['bodyfat'] = nbatable['bodyfat'].str.replace(\"%\",\"\")"
   ]
  },
  {
   "cell_type": "code",
   "execution_count": 165,
   "id": "5f77108a",
   "metadata": {},
   "outputs": [],
   "source": [
    "nbatable = nbatable.apply(pd.to_numeric, errors ='ignore')"
   ]
  },
  {
   "cell_type": "code",
   "execution_count": 166,
   "id": "eb23a6c0",
   "metadata": {},
   "outputs": [
    {
     "data": {
      "text/plain": [
       "PLAYER            object\n",
       "POS               object\n",
       "bodyfat          float64\n",
       "handlength       float64\n",
       "handwidth        float64\n",
       "noshoes          float64\n",
       "shoes            float64\n",
       "standingreach    float64\n",
       "weight           float64\n",
       "WINGSPAN         float64\n",
       "dtype: object"
      ]
     },
     "execution_count": 166,
     "metadata": {},
     "output_type": "execute_result"
    }
   ],
   "source": [
    "nbatable.dtypes"
   ]
  },
  {
   "cell_type": "code",
   "execution_count": 180,
   "id": "c9bb4c75",
   "metadata": {},
   "outputs": [
    {
     "data": {
      "text/plain": [
       "<AxesSubplot:xlabel='PLAYER'>"
      ]
     },
     "execution_count": 180,
     "metadata": {},
     "output_type": "execute_result"
    },
    {
     "data": {
      "image/png": "[encoded data removed]",
      "text/plain": [
       "<Figure size 432x288 with 1 Axes>"
      ]
     },
     "metadata": {
      "needs_background": "light"
     },
     "output_type": "display_data"
    }
   ],
   "source": [
    "nbatable = nbatable.sort_values(\"handwidth\", ascending = False)\n",
    "gigababy = nbatable.head(10)\n",
    "gigababy.plot.bar(\"PLAYER\",\"handwidth\")"
   ]
  },
  {
   "cell_type": "code",
   "execution_count": 181,
   "id": "bcc8612d",
   "metadata": {},
   "outputs": [],
   "source": [
    "import seaborn as sns"
   ]
  },
  {
   "cell_type": "code",
   "execution_count": 183,
   "id": "9b15d7c8",
   "metadata": {},
   "outputs": [
    {
     "data": {
      "text/plain": [
       "<AxesSubplot:>"
      ]
     },
     "execution_count": 183,
     "metadata": {},
     "output_type": "execute_result"
    },
    {
     "data": {
      "image/png": "[encoded data removed]",
      "text/plain": [
       "<Figure size 432x288 with 2 Axes>"
      ]
     },
     "metadata": {
      "needs_background": "light"
     },
     "output_type": "display_data"
    }
   ],
   "source": [
    "sns.heatmap(nbatable.corr())"
   ]
  },
  {
   "cell_type": "code",
   "execution_count": null,
   "id": "43671220",
   "metadata": {},
   "outputs": [],
   "source": []
  }
 ],
 "metadata": {
  "kernelspec": {
   "display_name": "Python 3 (ipykernel)",
   "language": "python",
   "name": "python3"
  },
  "language_info": {
   "codemirror_mode": {
    "name": "ipython",
    "version": 3
   },
   "file_extension": ".py",
   "mimetype": "text/x-python",
   "name": "python",
   "nbconvert_exporter": "python",
   "pygments_lexer": "ipython3",
   "version": "3.9.7"
  }
 },
 "nbformat": 4,
 "nbformat_minor": 5
}
